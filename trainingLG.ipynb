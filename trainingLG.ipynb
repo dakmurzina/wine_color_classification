{
 "cells": [
  {
   "cell_type": "code",
   "execution_count": 1,
   "metadata": {},
   "outputs": [],
   "source": [
    "# CELL 1\n",
    "import pandas\n",
    "\n",
    "# Let's load the training data from a csv file\n",
    "train_set = pandas.read_csv('./train.csv', sep='\\t', encoding='utf-8')\n",
    "train_set\n",
    "\n",
    "# Let's extract only these two columns from the data \n",
    "train_reviews = train_set['Review'].to_list()\n",
    "train_colors = train_set['Color'].to_list()"
   ]
  },
  {
   "cell_type": "code",
   "execution_count": 2,
   "metadata": {},
   "outputs": [
    {
     "name": "stdout",
     "output_type": "stream",
     "text": [
      "(10000, 3)\n"
     ]
    }
   ],
   "source": [
    "# CELL 2\n",
    "import numpy\n",
    "\n",
    "# assign the list of terms to a variable\n",
    "terms2 = [\"fall\", \"sweet\", \"plum\"]\n",
    "\n",
    "# Let's create zero vectors of length 10 for each review in our training set\n",
    "# numpy.zeros(X, Y) let's us do this easily\n",
    "# X = no. of rows, Y = no. of columns\n",
    "train_features2 = numpy.zeros((len(train_reviews), len(terms2)))\n",
    "print(train_features2.shape)"
   ]
  },
  {
   "cell_type": "code",
   "execution_count": 3,
   "metadata": {},
   "outputs": [],
   "source": [
    "# CELL 3\n",
    "import spacy\n",
    "\n",
    "nlp = spacy.load('en_core_web_sm')\n",
    "\n",
    "# Process a text\n",
    "train_doc_reviews = nlp.pipe(train_reviews)\n",
    "\n",
    "\n",
    "# loop over each review, label and feature vector at the same time (zip)\n",
    "for review, f, c in zip(train_doc_reviews, train_features2, train_colors):\n",
    "    tokens_list = [token.lemma_ for token in review]\n",
    "    #print(tokens_list)\n",
    "    for term in terms2:\n",
    "        if term in tokens_list:\n",
    "            term_id = terms2.index(term)\n",
    "            f[term_id] = 1"
   ]
  },
  {
   "cell_type": "code",
   "execution_count": 4,
   "metadata": {},
   "outputs": [
    {
     "name": "stdout",
     "output_type": "stream",
     "text": [
      "['Red' 'Rose' 'White' 'unk']\n",
      "{'C': 1.0, 'class_weight': None, 'dual': False, 'fit_intercept': True, 'intercept_scaling': 1, 'l1_ratio': None, 'max_iter': 100, 'multi_class': 'auto', 'n_jobs': None, 'penalty': 'l2', 'random_state': None, 'solver': 'lbfgs', 'tol': 0.0001, 'verbose': 0, 'warm_start': False}\n"
     ]
    }
   ],
   "source": [
    "#In sklearn, all machine learning models are implemented as Python classes\n",
    "from sklearn.linear_model import LogisticRegression\n",
    "\n",
    "# Make an instance of the Model from LogisticRegression class\n",
    "# all parameters not specified are set to their defaults\n",
    "lr = LogisticRegression()\n",
    "\n",
    "# Train the model on the data, storing the information learned from the dat`a\n",
    "# Model is learning the relationship between digits (x_train) and labels (y_train)\n",
    "lr.fit(train_features2, train_colors)\n",
    "\n",
    "# Let's see what are the possible labels to predict (and in which order they are stored)\n",
    "print(lr.classes_)\n",
    "\n",
    "# We can get additional information about all the parameters used with LogReg model\n",
    "print(lr.get_params())"
   ]
  },
  {
   "attachments": {},
   "cell_type": "markdown",
   "metadata": {},
   "source": [
    "CELL 5: \n",
    "- Open test.csv with pandas and assign reviews and colors to two lists\n",
    "- Create zero feature vectors for the test set\n",
    "- Use a new variable name for these features\n",
    "    "
   ]
  },
  {
   "cell_type": "code",
   "execution_count": 5,
   "metadata": {},
   "outputs": [],
   "source": [
    "import pandas\n",
    "test_set = pandas.read_csv('./test.csv', sep='\\t', encoding='utf-8')\n",
    "test_set\n",
    "\n",
    "\n",
    "# Let's extract only the relevant columns, and put them in lists\n",
    "test_reviews = test_set['Review'].to_list()\n",
    "test_colors = test_set['Color'].to_list()\n",
    "\n",
    "# Create zero vectors (of length 10) for each review (of len(test_reviews))\n",
    "\n",
    "test_features2 = numpy.zeros((len(test_reviews), len(terms2)))\n",
    "\n"
   ]
  },
  {
   "attachments": {},
   "cell_type": "markdown",
   "metadata": {},
   "source": [
    "CELL 6:\n",
    "- Process the test set and update feature vectors\n",
    "\n"
   ]
  },
  {
   "cell_type": "code",
   "execution_count": 6,
   "metadata": {},
   "outputs": [],
   "source": [
    "# CELL 6:\n",
    "import spacy\n",
    "\n",
    "nlp = spacy.load('en_core_web_sm')\n",
    "\n",
    "# Process a text\n",
    "test_doc_reviews = nlp.pipe(test_reviews)\n",
    "\n",
    "# Update the feature vectors by checkin if the terms exist per review\n",
    "for review, f_vector in zip(test_doc_reviews, test_features2):\n",
    "    tokens_list = [token.lemma_ for token in review]\n",
    "    for term in terms2:\n",
    "        if term in tokens_list:\n",
    "            term_id = terms2.index(term)\n",
    "            f_vector[term_id]=1"
   ]
  },
  {
   "attachments": {},
   "cell_type": "markdown",
   "metadata": {},
   "source": [
    "CELL 7:\n",
    "- Define a function predict2, which takes a review index as input and prints:\n",
    "    - the review\n",
    "    - the features\n",
    "    - the terms\n",
    "    - the correct label\n",
    "    - the prediction (using the trained model)\n",
    "    - the probability of each class being predicted (using the trained model)"
   ]
  },
  {
   "cell_type": "code",
   "execution_count": 7,
   "metadata": {},
   "outputs": [],
   "source": [
    "# CELL 7:\n",
    "def predict(i):\n",
    "    # Print the review of the index\n",
    "    print(test_reviews[i])\n",
    "    # print the features of the index\n",
    "    print(test_features2[i])\n",
    "    # print all terms\n",
    "    print(terms2)\n",
    "    # print the correct label of the index\n",
    "    print(test_colors[i])\n",
    "\n",
    "    print()\n",
    "    print(\"Prediction:\")\n",
    "    # print the prediction for the features of this index\n",
    "    print(lr.predict([test_features2[i]]))\n",
    "    # print the probabilities for each label predictions\n",
    "    print(lr.predict_proba([test_features2[i]]))\n",
    "    print()"
   ]
  },
  {
   "attachments": {},
   "cell_type": "markdown",
   "metadata": {},
   "source": [
    "CELL 8\n",
    "- Using the function predict2, predict the labels for review 0 and review 10\n"
   ]
  },
  {
   "cell_type": "code",
   "execution_count": 8,
   "metadata": {},
   "outputs": [],
   "source": [
    "# CELL 8"
   ]
  },
  {
   "cell_type": "code",
   "execution_count": 9,
   "metadata": {},
   "outputs": [
    {
     "name": "stdout",
     "output_type": "stream",
     "text": [
      "Leather, spice, tobacco and tea emerge from the nose of this Sicilian blend of Nero d’Avola, Syrah, Merlot, Cabernet and Petit Verdot. You’ll get aromas of clove, allspice and vanilla behind vibrant blueberry and raspberry.\n",
      "[0. 0. 0.]\n",
      "['fall', 'sweet', 'plum']\n",
      "Red\n",
      "\n",
      "Prediction:\n",
      "['Red']\n",
      "[[0.58717328 0.02166135 0.32938762 0.06177775]]\n",
      "\n",
      "I haven’t been a fan of Santa Ynez Cabs for the simple reason that they’re so seldom ripe. You get this green, herb and mint streak that’s not flattering to Cab’s tannins. This wine is in that vein. \n",
      "[0. 0. 0.]\n",
      "['fall', 'sweet', 'plum']\n",
      "Red\n",
      "\n",
      "Prediction:\n",
      "['Red']\n",
      "[[0.58717328 0.02166135 0.32938762 0.06177775]]\n",
      "\n"
     ]
    }
   ],
   "source": [
    "predict(0)\n",
    "predict(10)"
   ]
  },
  {
   "cell_type": "code",
   "execution_count": null,
   "metadata": {},
   "outputs": [],
   "source": []
  }
 ],
 "metadata": {
  "kernelspec": {
   "display_name": "Python 3",
   "language": "python",
   "name": "python3"
  },
  "language_info": {
   "codemirror_mode": {
    "name": "ipython",
    "version": 3
   },
   "file_extension": ".py",
   "mimetype": "text/x-python",
   "name": "python",
   "nbconvert_exporter": "python",
   "pygments_lexer": "ipython3",
   "version": "3.10.7"
  },
  "orig_nbformat": 4
 },
 "nbformat": 4,
 "nbformat_minor": 2
}
